{
 "cells": [
  {
   "cell_type": "markdown",
   "id": "cf727d14",
   "metadata": {},
   "source": [
    "# Student Missing Value"
   ]
  },
  {
   "cell_type": "markdown",
   "id": "82888ef1",
   "metadata": {},
   "source": [
    "In this notebook we will learn how to deal with missing values in our dataset how to tackle this obstacle while doing exploratory data analysis"
   ]
  },
  {
   "cell_type": "markdown",
   "id": "6278c1f3",
   "metadata": {},
   "source": [
    "### 1. Importing necessary libraries"
   ]
  },
  {
   "cell_type": "code",
   "execution_count": 4,
   "id": "79c9770e",
   "metadata": {},
   "outputs": [],
   "source": [
    "import numpy as np # numpy helps in storing the data as arrays\n",
    "import pandas as pd # pandas heps in storing and representing data frames\n",
    "import matplotlib.pyplot as plt # matplotlib helps in data visualization"
   ]
  },
  {
   "cell_type": "markdown",
   "id": "0da81c31",
   "metadata": {},
   "source": [
    "### 2. Loading the data set"
   ]
  },
  {
   "cell_type": "markdown",
   "id": "a3ee9040",
   "metadata": {},
   "source": [
    "\n",
    "The \"student_missing\" dataset comprises the scores of 50 students across three distinct categories: Score 1, Score 2, and Score 3."
   ]
  },
  {
   "cell_type": "code",
   "execution_count": 7,
   "id": "67d1c387",
   "metadata": {},
   "outputs": [
    {
     "data": {
      "text/html": [
       "<div>\n",
       "<style scoped>\n",
       "    .dataframe tbody tr th:only-of-type {\n",
       "        vertical-align: middle;\n",
       "    }\n",
       "\n",
       "    .dataframe tbody tr th {\n",
       "        vertical-align: top;\n",
       "    }\n",
       "\n",
       "    .dataframe thead th {\n",
       "        text-align: right;\n",
       "    }\n",
       "</style>\n",
       "<table border=\"1\" class=\"dataframe\">\n",
       "  <thead>\n",
       "    <tr style=\"text-align: right;\">\n",
       "      <th></th>\n",
       "      <th>StudentID</th>\n",
       "      <th>Score1</th>\n",
       "      <th>Score2</th>\n",
       "      <th>Score3</th>\n",
       "    </tr>\n",
       "  </thead>\n",
       "  <tbody>\n",
       "    <tr>\n",
       "      <th>0</th>\n",
       "      <td>1</td>\n",
       "      <td>76.0</td>\n",
       "      <td>90.0</td>\n",
       "      <td>85.0</td>\n",
       "    </tr>\n",
       "    <tr>\n",
       "      <th>1</th>\n",
       "      <td>2</td>\n",
       "      <td>95.0</td>\n",
       "      <td>NaN</td>\n",
       "      <td>92.0</td>\n",
       "    </tr>\n",
       "    <tr>\n",
       "      <th>2</th>\n",
       "      <td>3</td>\n",
       "      <td>86.0</td>\n",
       "      <td>70.0</td>\n",
       "      <td>NaN</td>\n",
       "    </tr>\n",
       "    <tr>\n",
       "      <th>3</th>\n",
       "      <td>4</td>\n",
       "      <td>72.0</td>\n",
       "      <td>NaN</td>\n",
       "      <td>78.0</td>\n",
       "    </tr>\n",
       "    <tr>\n",
       "      <th>4</th>\n",
       "      <td>5</td>\n",
       "      <td>NaN</td>\n",
       "      <td>88.0</td>\n",
       "      <td>80.0</td>\n",
       "    </tr>\n",
       "  </tbody>\n",
       "</table>\n",
       "</div>"
      ],
      "text/plain": [
       "   StudentID  Score1  Score2  Score3\n",
       "0          1    76.0    90.0    85.0\n",
       "1          2    95.0     NaN    92.0\n",
       "2          3    86.0    70.0     NaN\n",
       "3          4    72.0     NaN    78.0\n",
       "4          5     NaN    88.0    80.0"
      ]
     },
     "execution_count": 7,
     "metadata": {},
     "output_type": "execute_result"
    }
   ],
   "source": [
    "df=pd.read_csv(\"student_missing.csv\") # The csv file containg score information has been loaded into a pandas data frame\n",
    "df.head()"
   ]
  },
  {
   "cell_type": "markdown",
   "id": "30131001",
   "metadata": {},
   "source": [
    "In this dataset there are a lot of missing values in the student score, so let us delve deep into it and findout how many values are we missing"
   ]
  },
  {
   "cell_type": "code",
   "execution_count": 6,
   "id": "4650aee9",
   "metadata": {},
   "outputs": [
    {
     "name": "stdout",
     "output_type": "stream",
     "text": [
      "StudentID     0\n",
      "Score1       26\n",
      "Score2       32\n",
      "Score3       29\n",
      "dtype: int64\n"
     ]
    }
   ],
   "source": [
    "missing=df.isnull().sum() # the isnull() operator returns the null values and sum() will agrregrate all those missing values\n",
    "print(missing)"
   ]
  },
  {
   "cell_type": "markdown",
   "id": "6642a4ea",
   "metadata": {},
   "source": [
    "From this we can obeserve the total number of missing values under each category"
   ]
  },
  {
   "cell_type": "markdown",
   "id": "499ee3b5",
   "metadata": {},
   "source": [
    "### 3. Dealing with Missing Values"
   ]
  },
  {
   "cell_type": "markdown",
   "id": "8c68c8c6",
   "metadata": {},
   "source": [
    "\n",
    "We have two approaches to handle missing values, tailored to the nature of the data and the analytical needs: either we **discard** the entries or **impute** values in place of the missing data."
   ]
  },
  {
   "cell_type": "markdown",
   "id": "10ec8248",
   "metadata": {},
   "source": [
    "### a.) Droping the values"
   ]
  },
  {
   "cell_type": "markdown",
   "id": "f494ceb0",
   "metadata": {},
   "source": [
    "\n",
    "We have the option to drop either rows or columns that contain missing values, enabling us to proceed with analysis using the available data if this approach aligns with the feasibility of our analysis, as demonstrated below:"
   ]
  },
  {
   "cell_type": "code",
   "execution_count": 17,
   "id": "b4a20ff2",
   "metadata": {},
   "outputs": [
    {
     "name": "stdout",
     "output_type": "stream",
     "text": [
      "(2, 4)\n",
      "    StudentID  Score1  Score2  Score3\n",
      "0           1    76.0    90.0    85.0\n",
      "16         17    78.0    97.0    95.0\n"
     ]
    }
   ],
   "source": [
    "# Droping rows\n",
    "drop=df.dropna(axis=0)# The dropna command drops the values which are not available, here axis=0 to \n",
    "print(drop.shape)     # drop the rows with missing values\n",
    "print(drop)"
   ]
  },
  {
   "cell_type": "code",
   "execution_count": 18,
   "id": "d80f791c",
   "metadata": {},
   "outputs": [
    {
     "name": "stdout",
     "output_type": "stream",
     "text": [
      "(50, 1)\n"
     ]
    },
    {
     "data": {
      "text/html": [
       "<div>\n",
       "<style scoped>\n",
       "    .dataframe tbody tr th:only-of-type {\n",
       "        vertical-align: middle;\n",
       "    }\n",
       "\n",
       "    .dataframe tbody tr th {\n",
       "        vertical-align: top;\n",
       "    }\n",
       "\n",
       "    .dataframe thead th {\n",
       "        text-align: right;\n",
       "    }\n",
       "</style>\n",
       "<table border=\"1\" class=\"dataframe\">\n",
       "  <thead>\n",
       "    <tr style=\"text-align: right;\">\n",
       "      <th></th>\n",
       "      <th>StudentID</th>\n",
       "    </tr>\n",
       "  </thead>\n",
       "  <tbody>\n",
       "    <tr>\n",
       "      <th>0</th>\n",
       "      <td>1</td>\n",
       "    </tr>\n",
       "    <tr>\n",
       "      <th>1</th>\n",
       "      <td>2</td>\n",
       "    </tr>\n",
       "    <tr>\n",
       "      <th>2</th>\n",
       "      <td>3</td>\n",
       "    </tr>\n",
       "    <tr>\n",
       "      <th>3</th>\n",
       "      <td>4</td>\n",
       "    </tr>\n",
       "    <tr>\n",
       "      <th>4</th>\n",
       "      <td>5</td>\n",
       "    </tr>\n",
       "  </tbody>\n",
       "</table>\n",
       "</div>"
      ],
      "text/plain": [
       "   StudentID\n",
       "0          1\n",
       "1          2\n",
       "2          3\n",
       "3          4\n",
       "4          5"
      ]
     },
     "execution_count": 18,
     "metadata": {},
     "output_type": "execute_result"
    }
   ],
   "source": [
    "# Droping columns\n",
    "drop=df.dropna(axis=1)# Here the axis=1 to drop columns\n",
    "print(drop.shape)\n",
    "drop.head()"
   ]
  },
  {
   "cell_type": "markdown",
   "id": "11a0837d",
   "metadata": {},
   "source": [
    "\n",
    "After employing the drop method to clean our data, it becomes evident that if we drop all rows with missing values, we are left with only 2 rows for analysis. Conversely, dropping the column containing missing values would result in the elimination of the entire scores section, leaving us with nothing to analyze. Thus, dropping the data is not a feasible approach for this dataset."
   ]
  },
  {
   "cell_type": "markdown",
   "id": "f930e475",
   "metadata": {},
   "source": [
    "### b.) Data Imputation"
   ]
  },
  {
   "cell_type": "markdown",
   "id": "eea5a34a",
   "metadata": {},
   "source": [
    "\n",
    "Data imputation is the process of filling in missing values in a dataset using estimation techniques based on observed data."
   ]
  },
  {
   "cell_type": "markdown",
   "id": "448cb1a7",
   "metadata": {},
   "source": [
    "### 1. Filling in 0's"
   ]
  },
  {
   "cell_type": "markdown",
   "id": "a173c069",
   "metadata": {},
   "source": [
    "In this method we will fill the missing values with 0 "
   ]
  },
  {
   "cell_type": "code",
   "execution_count": 24,
   "id": "f53ad378",
   "metadata": {},
   "outputs": [
    {
     "data": {
      "text/html": [
       "<div>\n",
       "<style scoped>\n",
       "    .dataframe tbody tr th:only-of-type {\n",
       "        vertical-align: middle;\n",
       "    }\n",
       "\n",
       "    .dataframe tbody tr th {\n",
       "        vertical-align: top;\n",
       "    }\n",
       "\n",
       "    .dataframe thead th {\n",
       "        text-align: right;\n",
       "    }\n",
       "</style>\n",
       "<table border=\"1\" class=\"dataframe\">\n",
       "  <thead>\n",
       "    <tr style=\"text-align: right;\">\n",
       "      <th></th>\n",
       "      <th>StudentID</th>\n",
       "      <th>Score1</th>\n",
       "      <th>Score2</th>\n",
       "      <th>Score3</th>\n",
       "    </tr>\n",
       "  </thead>\n",
       "  <tbody>\n",
       "    <tr>\n",
       "      <th>0</th>\n",
       "      <td>1</td>\n",
       "      <td>76.000000</td>\n",
       "      <td>90.000000</td>\n",
       "      <td>85.0</td>\n",
       "    </tr>\n",
       "    <tr>\n",
       "      <th>1</th>\n",
       "      <td>2</td>\n",
       "      <td>95.000000</td>\n",
       "      <td>63.000000</td>\n",
       "      <td>92.0</td>\n",
       "    </tr>\n",
       "    <tr>\n",
       "      <th>2</th>\n",
       "      <td>3</td>\n",
       "      <td>86.000000</td>\n",
       "      <td>70.000000</td>\n",
       "      <td>53.0</td>\n",
       "    </tr>\n",
       "    <tr>\n",
       "      <th>3</th>\n",
       "      <td>4</td>\n",
       "      <td>72.000000</td>\n",
       "      <td>51.333333</td>\n",
       "      <td>78.0</td>\n",
       "    </tr>\n",
       "    <tr>\n",
       "      <th>4</th>\n",
       "      <td>5</td>\n",
       "      <td>57.666667</td>\n",
       "      <td>88.000000</td>\n",
       "      <td>80.0</td>\n",
       "    </tr>\n",
       "  </tbody>\n",
       "</table>\n",
       "</div>"
      ],
      "text/plain": [
       "   StudentID     Score1     Score2  Score3\n",
       "0          1  76.000000  90.000000    85.0\n",
       "1          2  95.000000  63.000000    92.0\n",
       "2          3  86.000000  70.000000    53.0\n",
       "3          4  72.000000  51.333333    78.0\n",
       "4          5  57.666667  88.000000    80.0"
      ]
     },
     "execution_count": 24,
     "metadata": {},
     "output_type": "execute_result"
    }
   ],
   "source": [
    "fill=df.fillna(0)# the fillna function will fill the missing values based on the argument, here the argument is 0, \n",
    "fill.head()      #  hence it fills in all missing values with 0's "
   ]
  },
  {
   "cell_type": "markdown",
   "id": "32581bef",
   "metadata": {},
   "source": [
    "\n",
    "For the given dataset, treating 0 assignments as indicating student absence and subsequently assigning a score of 0 could be a feasible approach. However, if the Professor opts not to grade 0 and instead wants to assign some credit, alternative options can be explored as follows:"
   ]
  },
  {
   "cell_type": "markdown",
   "id": "0972c448",
   "metadata": {},
   "source": [
    "### 2.  Forward fill (ffill)"
   ]
  },
  {
   "cell_type": "markdown",
   "id": "379fc89f",
   "metadata": {},
   "source": [
    "The ffill method propagates the last known value forward to the  missing value, in this scenario let us assume the proffesor wishes to assign the same grade as score 1 if the student is missing score 2 and so on "
   ]
  },
  {
   "cell_type": "code",
   "execution_count": 11,
   "id": "596d6095",
   "metadata": {},
   "outputs": [
    {
     "data": {
      "text/html": [
       "<div>\n",
       "<style scoped>\n",
       "    .dataframe tbody tr th:only-of-type {\n",
       "        vertical-align: middle;\n",
       "    }\n",
       "\n",
       "    .dataframe tbody tr th {\n",
       "        vertical-align: top;\n",
       "    }\n",
       "\n",
       "    .dataframe thead th {\n",
       "        text-align: right;\n",
       "    }\n",
       "</style>\n",
       "<table border=\"1\" class=\"dataframe\">\n",
       "  <thead>\n",
       "    <tr style=\"text-align: right;\">\n",
       "      <th></th>\n",
       "      <th>StudentID</th>\n",
       "      <th>Score1</th>\n",
       "      <th>Score2</th>\n",
       "      <th>Score3</th>\n",
       "    </tr>\n",
       "  </thead>\n",
       "  <tbody>\n",
       "    <tr>\n",
       "      <th>0</th>\n",
       "      <td>1.0</td>\n",
       "      <td>76.0</td>\n",
       "      <td>90.0</td>\n",
       "      <td>85.0</td>\n",
       "    </tr>\n",
       "    <tr>\n",
       "      <th>1</th>\n",
       "      <td>2.0</td>\n",
       "      <td>95.0</td>\n",
       "      <td>95.0</td>\n",
       "      <td>92.0</td>\n",
       "    </tr>\n",
       "    <tr>\n",
       "      <th>2</th>\n",
       "      <td>3.0</td>\n",
       "      <td>86.0</td>\n",
       "      <td>70.0</td>\n",
       "      <td>70.0</td>\n",
       "    </tr>\n",
       "    <tr>\n",
       "      <th>3</th>\n",
       "      <td>4.0</td>\n",
       "      <td>72.0</td>\n",
       "      <td>72.0</td>\n",
       "      <td>78.0</td>\n",
       "    </tr>\n",
       "    <tr>\n",
       "      <th>4</th>\n",
       "      <td>5.0</td>\n",
       "      <td>5.0</td>\n",
       "      <td>88.0</td>\n",
       "      <td>80.0</td>\n",
       "    </tr>\n",
       "  </tbody>\n",
       "</table>\n",
       "</div>"
      ],
      "text/plain": [
       "   StudentID  Score1  Score2  Score3\n",
       "0        1.0    76.0    90.0    85.0\n",
       "1        2.0    95.0    95.0    92.0\n",
       "2        3.0    86.0    70.0    70.0\n",
       "3        4.0    72.0    72.0    78.0\n",
       "4        5.0     5.0    88.0    80.0"
      ]
     },
     "execution_count": 11,
     "metadata": {},
     "output_type": "execute_result"
    }
   ],
   "source": [
    "fill=df.fillna(method='ffill',axis=1)# ffill, axis=1 for row ffill \n",
    "fill.head()"
   ]
  },
  {
   "cell_type": "markdown",
   "id": "5b5f9bfd",
   "metadata": {},
   "source": [
    "### 3. Backward fill (bfill)"
   ]
  },
  {
   "cell_type": "markdown",
   "id": "20fd393f",
   "metadata": {},
   "source": [
    "The bfill method propagates the next known value forward to the  missing value, in this scenario let us assume the proffesor wishes to assign the same grade as score 3 if the student is missing score 1 and so on "
   ]
  },
  {
   "cell_type": "code",
   "execution_count": 27,
   "id": "2b92f7e7",
   "metadata": {},
   "outputs": [
    {
     "data": {
      "text/html": [
       "<div>\n",
       "<style scoped>\n",
       "    .dataframe tbody tr th:only-of-type {\n",
       "        vertical-align: middle;\n",
       "    }\n",
       "\n",
       "    .dataframe tbody tr th {\n",
       "        vertical-align: top;\n",
       "    }\n",
       "\n",
       "    .dataframe thead th {\n",
       "        text-align: right;\n",
       "    }\n",
       "</style>\n",
       "<table border=\"1\" class=\"dataframe\">\n",
       "  <thead>\n",
       "    <tr style=\"text-align: right;\">\n",
       "      <th></th>\n",
       "      <th>StudentID</th>\n",
       "      <th>Score1</th>\n",
       "      <th>Score2</th>\n",
       "      <th>Score3</th>\n",
       "    </tr>\n",
       "  </thead>\n",
       "  <tbody>\n",
       "    <tr>\n",
       "      <th>0</th>\n",
       "      <td>1</td>\n",
       "      <td>76.000000</td>\n",
       "      <td>90.000000</td>\n",
       "      <td>85.0</td>\n",
       "    </tr>\n",
       "    <tr>\n",
       "      <th>1</th>\n",
       "      <td>2</td>\n",
       "      <td>95.000000</td>\n",
       "      <td>63.000000</td>\n",
       "      <td>92.0</td>\n",
       "    </tr>\n",
       "    <tr>\n",
       "      <th>2</th>\n",
       "      <td>3</td>\n",
       "      <td>86.000000</td>\n",
       "      <td>70.000000</td>\n",
       "      <td>53.0</td>\n",
       "    </tr>\n",
       "    <tr>\n",
       "      <th>3</th>\n",
       "      <td>4</td>\n",
       "      <td>72.000000</td>\n",
       "      <td>51.333333</td>\n",
       "      <td>78.0</td>\n",
       "    </tr>\n",
       "    <tr>\n",
       "      <th>4</th>\n",
       "      <td>5</td>\n",
       "      <td>57.666667</td>\n",
       "      <td>88.000000</td>\n",
       "      <td>80.0</td>\n",
       "    </tr>\n",
       "  </tbody>\n",
       "</table>\n",
       "</div>"
      ],
      "text/plain": [
       "   StudentID     Score1     Score2  Score3\n",
       "0          1  76.000000  90.000000    85.0\n",
       "1          2  95.000000  63.000000    92.0\n",
       "2          3  86.000000  70.000000    53.0\n",
       "3          4  72.000000  51.333333    78.0\n",
       "4          5  57.666667  88.000000    80.0"
      ]
     },
     "execution_count": 27,
     "metadata": {},
     "output_type": "execute_result"
    }
   ],
   "source": [
    "fill=df.fillna(method='bfill')# bfill\n",
    "fill.head()"
   ]
  },
  {
   "cell_type": "markdown",
   "id": "989f56a2",
   "metadata": {},
   "source": [
    "\n",
    "While forward fill (ffill) and backward fill (bfill) methods can replace missing values, they may not be the most suitable for this dataset context. This is because awarding a student the same grade as previous or subsequent tests for those they did not attend may not accurately reflect their performance. Hence, exploring a more appropriate approach is advisable."
   ]
  },
  {
   "cell_type": "markdown",
   "id": "ad44d722",
   "metadata": {},
   "source": [
    "### 4. Mean Imputation"
   ]
  },
  {
   "cell_type": "markdown",
   "id": "2671da4a",
   "metadata": {},
   "source": [
    "\n",
    "In the given situation, mean imputation emerges as the most feasible approach. This method assigns a student who missed a test the average score of all their tests, which is more meaningful if the professor opts to provide partial credit instead of a zero for the missed test."
   ]
  },
  {
   "cell_type": "code",
   "execution_count": 29,
   "id": "f88fc1d3",
   "metadata": {},
   "outputs": [
    {
     "data": {
      "text/html": [
       "<div>\n",
       "<style scoped>\n",
       "    .dataframe tbody tr th:only-of-type {\n",
       "        vertical-align: middle;\n",
       "    }\n",
       "\n",
       "    .dataframe tbody tr th {\n",
       "        vertical-align: top;\n",
       "    }\n",
       "\n",
       "    .dataframe thead th {\n",
       "        text-align: right;\n",
       "    }\n",
       "</style>\n",
       "<table border=\"1\" class=\"dataframe\">\n",
       "  <thead>\n",
       "    <tr style=\"text-align: right;\">\n",
       "      <th></th>\n",
       "      <th>StudentID</th>\n",
       "      <th>Score1</th>\n",
       "      <th>Score2</th>\n",
       "      <th>Score3</th>\n",
       "    </tr>\n",
       "  </thead>\n",
       "  <tbody>\n",
       "    <tr>\n",
       "      <th>0</th>\n",
       "      <td>1</td>\n",
       "      <td>76.000000</td>\n",
       "      <td>90.000000</td>\n",
       "      <td>85.0</td>\n",
       "    </tr>\n",
       "    <tr>\n",
       "      <th>1</th>\n",
       "      <td>2</td>\n",
       "      <td>95.000000</td>\n",
       "      <td>63.000000</td>\n",
       "      <td>92.0</td>\n",
       "    </tr>\n",
       "    <tr>\n",
       "      <th>2</th>\n",
       "      <td>3</td>\n",
       "      <td>86.000000</td>\n",
       "      <td>70.000000</td>\n",
       "      <td>53.0</td>\n",
       "    </tr>\n",
       "    <tr>\n",
       "      <th>3</th>\n",
       "      <td>4</td>\n",
       "      <td>72.000000</td>\n",
       "      <td>51.333333</td>\n",
       "      <td>78.0</td>\n",
       "    </tr>\n",
       "    <tr>\n",
       "      <th>4</th>\n",
       "      <td>5</td>\n",
       "      <td>57.666667</td>\n",
       "      <td>88.000000</td>\n",
       "      <td>80.0</td>\n",
       "    </tr>\n",
       "  </tbody>\n",
       "</table>\n",
       "</div>"
      ],
      "text/plain": [
       "   StudentID     Score1     Score2  Score3\n",
       "0          1  76.000000  90.000000    85.0\n",
       "1          2  95.000000  63.000000    92.0\n",
       "2          3  86.000000  70.000000    53.0\n",
       "3          4  72.000000  51.333333    78.0\n",
       "4          5  57.666667  88.000000    80.0"
      ]
     },
     "execution_count": 29,
     "metadata": {},
     "output_type": "execute_result"
    }
   ],
   "source": [
    "row_means = df.mean(axis=1)# calculating rowwise mean\n",
    "for i, row in df.iterrows(): # iterating each element in the same row to replace the row mean with the missing value\n",
    "    df.loc[i] = row.fillna(row_means[i])\n",
    "df.head()"
   ]
  },
  {
   "cell_type": "markdown",
   "id": "32753462",
   "metadata": {},
   "source": [
    "Lastly, lets check again for any missing values"
   ]
  },
  {
   "cell_type": "code",
   "execution_count": 22,
   "id": "b615c181",
   "metadata": {},
   "outputs": [
    {
     "name": "stdout",
     "output_type": "stream",
     "text": [
      "StudentID    0\n",
      "Score1       0\n",
      "Score2       0\n",
      "Score3       0\n",
      "dtype: int64\n"
     ]
    }
   ],
   "source": [
    "missing=df.isnull().sum()\n",
    "print(missing)"
   ]
  },
  {
   "cell_type": "markdown",
   "id": "9b3d0184",
   "metadata": {},
   "source": [
    "After verification, we can conclude that we have successfully imputed the missing values, resulting in a complete dataset ready for analysis."
   ]
  },
  {
   "cell_type": "markdown",
   "id": "a3a46e59",
   "metadata": {},
   "source": [
    "### Conclusion"
   ]
  },
  {
   "cell_type": "markdown",
   "id": "4104a508",
   "metadata": {},
   "source": [
    "\n",
    "We can conclude that this notebook has provided us with a variety of techniques for handling missing values, including dropping, filling with 0s, forward fill (ffill), backward fill (bfill), and mean imputation. These methods offer flexibility and can be applied based on the specific situation and characteristics of the data being analyzed, enhancing our ability to effectively manage missing data in future analyses."
   ]
  }
 ],
 "metadata": {
  "kernelspec": {
   "display_name": "Python 3 (ipykernel)",
   "language": "python",
   "name": "python3"
  },
  "language_info": {
   "codemirror_mode": {
    "name": "ipython",
    "version": 3
   },
   "file_extension": ".py",
   "mimetype": "text/x-python",
   "name": "python",
   "nbconvert_exporter": "python",
   "pygments_lexer": "ipython3",
   "version": "3.11.5"
  }
 },
 "nbformat": 4,
 "nbformat_minor": 5
}
